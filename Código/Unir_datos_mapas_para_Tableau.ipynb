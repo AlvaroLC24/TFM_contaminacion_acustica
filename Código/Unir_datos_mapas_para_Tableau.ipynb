{
 "cells": [
  {
   "cell_type": "markdown",
   "id": "1450228a",
   "metadata": {},
   "source": [
    "# Unir los datasets de contornos de los mapas de los 4 periodos y los 12 meses para cargar el dataset conjunto en Tableau"
   ]
  },
  {
   "cell_type": "markdown",
   "id": "96ff602a",
   "metadata": {},
   "source": [
    "El proceso se divide por cada mes e índice, sin añadirse a una función, por el largo tiempo computacional que conlleva."
   ]
  },
  {
   "cell_type": "code",
   "execution_count": 1,
   "id": "47a4f343",
   "metadata": {},
   "outputs": [],
   "source": [
    "import numpy as np\n",
    "import pandas as pd\n",
    "import matplotlib.pyplot as plt\n",
    "import seaborn as sns\n",
    "from dbfread import DBF\n",
    "import geopandas as gpd\n",
    "import datetime\n",
    "import glob\n",
    "import itertools\n",
    "import warnings\n",
    "warnings.filterwarnings('ignore')"
   ]
  },
  {
   "cell_type": "code",
   "execution_count": 25,
   "id": "6689813c",
   "metadata": {},
   "outputs": [],
   "source": [
    "mes1_lden = gpd.read_file(\"Datasets/Mapas de ruido/Mes1si/contouring_mes1_lden.shp\")\n",
    "mes1_lday = gpd.read_file(\"Datasets/Mapas de ruido/Mes1si/contouring_mes1_lday.shp\")\n",
    "mes1_levening = gpd.read_file(\"Datasets/Mapas de ruido/Mes1si/contouring_mes1_levening.shp\")\n",
    "mes1_lnight = gpd.read_file(\"Datasets/Mapas de ruido/Mes1si/contouring_mes1_lnight.shp\")"
   ]
  },
  {
   "cell_type": "code",
   "execution_count": 26,
   "id": "68543627",
   "metadata": {},
   "outputs": [],
   "source": [
    "mes1_lden['Indice'] = 'Lden'\n",
    "mes1_lday['Indice'] = 'Ld'\n",
    "mes1_levening['Indice'] = 'Le'\n",
    "mes1_lnight['Indice'] = 'Ln'\n",
    "\n",
    "mes1_lden['Mes'] = 'Enero'\n",
    "mes1_lday['Mes'] = 'Enero'\n",
    "mes1_levening['Mes'] = 'Enero'\n",
    "mes1_lnight['Mes'] = 'Enero'"
   ]
  },
  {
   "cell_type": "code",
   "execution_count": 27,
   "id": "ff567779",
   "metadata": {},
   "outputs": [],
   "source": [
    "mes2_lden = gpd.read_file(\"Datasets/Mapas de ruido/Mes2si/contouring_mes2_lden.shp\")\n",
    "mes2_lday = gpd.read_file(\"Datasets/Mapas de ruido/Mes2si/contouring_mes2_lday.shp\")\n",
    "mes2_levening = gpd.read_file(\"Datasets/Mapas de ruido/Mes2si/contouring_mes2_levening.shp\")\n",
    "mes2_lnight = gpd.read_file(\"Datasets/Mapas de ruido/Mes2si/contouring_mes2_lnight.shp\")"
   ]
  },
  {
   "cell_type": "code",
   "execution_count": 28,
   "id": "95fb4221",
   "metadata": {},
   "outputs": [],
   "source": [
    "mes2_lden['Indice'] = 'Lden'\n",
    "mes2_lday['Indice'] = 'Ld'\n",
    "mes2_levening['Indice'] = 'Le'\n",
    "mes2_lnight['Indice'] = 'Ln'\n",
    "\n",
    "mes2_lden['Mes'] = 'Febrero'\n",
    "mes2_lday['Mes'] = 'Febrero'\n",
    "mes2_levening['Mes'] = 'Febrero'\n",
    "mes2_lnight['Mes'] = 'Febrero'"
   ]
  },
  {
   "cell_type": "code",
   "execution_count": 2,
   "id": "64f61c2f",
   "metadata": {},
   "outputs": [],
   "source": [
    "mes3_lden = gpd.read_file(\"Datasets/Mapas de ruido/Mes3/contouring_mes3_lden.shp\")\n",
    "mes3_lday = gpd.read_file(\"Datasets/Mapas de ruido/Mes3/contouring_mes3_lday.shp\")\n",
    "mes3_ldevening = gpd.read_file(\"Datasets/Mapas de ruido/Mes3/contouring_mes3_levening.shp\")\n",
    "mes3_lnight = gpd.read_file(\"Datasets/Mapas de ruido/Mes3/contouring_mes3_lnight.shp\")"
   ]
  },
  {
   "cell_type": "code",
   "execution_count": 3,
   "id": "385af1c3",
   "metadata": {},
   "outputs": [],
   "source": [
    "mes3_lden['Indice'] = 'Lden'\n",
    "mes3_lday['Indice'] = 'Ld'\n",
    "mes3_ldevening['Indice'] = 'Le'\n",
    "mes3_lnight['Indice'] = 'Ln'\n",
    "\n",
    "mes3_lden['Mes'] = 'Marzo'\n",
    "mes3_lday['Mes'] = 'Marzo'\n",
    "mes3_ldevening['Mes'] = 'Marzo'\n",
    "mes3_lnight['Mes'] = 'Marzo'"
   ]
  },
  {
   "cell_type": "code",
   "execution_count": 4,
   "id": "02619817",
   "metadata": {},
   "outputs": [],
   "source": [
    "mes4_lden = gpd.read_file(\"Datasets/Mapas de ruido/Mes4/contouring_mes4_lden.shp\")\n",
    "mes4_lday = gpd.read_file(\"Datasets/Mapas de ruido/Mes4/contouring_mes4_lday.shp\")\n",
    "mes4_ldevening = gpd.read_file(\"Datasets/Mapas de ruido/Mes4/contouring_mes4_levening.shp\")\n",
    "mes4_lnight = gpd.read_file(\"Datasets/Mapas de ruido/Mes4/contouring_mes4_lnight.shp\")"
   ]
  },
  {
   "cell_type": "code",
   "execution_count": 5,
   "id": "11fed4a9",
   "metadata": {},
   "outputs": [],
   "source": [
    "mes4_lden['Indice'] = 'Lden'\n",
    "mes4_lday['Indice'] = 'Ld'\n",
    "mes4_ldevening['Indice'] = 'Le'\n",
    "mes4_lnight['Indice'] = 'Ln'\n",
    "\n",
    "mes4_lden['Mes'] = 'Abril'\n",
    "mes4_lday['Mes'] = 'Abril'\n",
    "mes4_ldevening['Mes'] = 'Abril'\n",
    "mes4_lnight['Mes'] = 'Abril'"
   ]
  },
  {
   "cell_type": "code",
   "execution_count": 8,
   "id": "efee7f81",
   "metadata": {},
   "outputs": [],
   "source": [
    "mes5_lden = gpd.read_file(\"Datasets/Mapas de ruido/Mes5/contouring_mes5_lden.shp\")\n",
    "mes5_lday = gpd.read_file(\"Datasets/Mapas de ruido/Mes5/contouring_mes5_lday.shp\")\n",
    "mes5_levening = gpd.read_file(\"Datasets/Mapas de ruido/Mes5/contouring_mes5_levening.shp\")\n",
    "mes5_lnight = gpd.read_file(\"Datasets/Mapas de ruido/Mes5/contouring_mes5_lnight.shp\")"
   ]
  },
  {
   "cell_type": "code",
   "execution_count": 9,
   "id": "d78db5a2",
   "metadata": {},
   "outputs": [],
   "source": [
    "mes5_lden['Indice'] = 'Lden'\n",
    "mes5_lday['Indice'] = 'Ld'\n",
    "mes5_levening['Indice'] = 'Le'\n",
    "mes5_lnight['Indice'] = 'Ln'\n",
    "\n",
    "mes5_lden['Mes'] = 'Mayo'\n",
    "mes5_lday['Mes'] = 'Mayo'\n",
    "mes5_levening['Mes'] = 'Mayo'\n",
    "mes5_lnight['Mes'] = 'Mayo'"
   ]
  },
  {
   "cell_type": "code",
   "execution_count": 10,
   "id": "45283f9d",
   "metadata": {},
   "outputs": [],
   "source": [
    "mes6_lden = gpd.read_file(\"Datasets/Mapas de ruido/Mes6/contouring_mes6_lden.shp\")\n",
    "mes6_lday = gpd.read_file(\"Datasets/Mapas de ruido/Mes6/contouring_mes6_lday.shp\")\n",
    "mes6_levening = gpd.read_file(\"Datasets/Mapas de ruido/Mes6/contouring_mes6_levening.shp\")\n",
    "mes6_lnight = gpd.read_file(\"Datasets/Mapas de ruido/Mes6/contouring_mes6_lnight.shp\")"
   ]
  },
  {
   "cell_type": "code",
   "execution_count": 11,
   "id": "2d96debd",
   "metadata": {},
   "outputs": [],
   "source": [
    "mes6_lden['Indice'] = 'Lden'\n",
    "mes6_lday['Indice'] = 'Ld'\n",
    "mes6_levening['Indice'] = 'Le'\n",
    "mes6_lnight['Indice'] = 'Ln'\n",
    "\n",
    "mes6_lden['Mes'] = 'Junio'\n",
    "mes6_lday['Mes'] = 'Junio'\n",
    "mes6_levening['Mes'] = 'Junio'\n",
    "mes6_lnight['Mes'] = 'Junio'"
   ]
  },
  {
   "cell_type": "code",
   "execution_count": 12,
   "id": "179cef3c",
   "metadata": {},
   "outputs": [],
   "source": [
    "mes7_lden = gpd.read_file(\"Datasets/Mapas de ruido/Mes7/contouring_mes7_lden.shp\")\n",
    "mes7_lday = gpd.read_file(\"Datasets/Mapas de ruido/Mes7/contouring_mes7_lday.shp\")\n",
    "mes7_levening = gpd.read_file(\"Datasets/Mapas de ruido/Mes7/contouring_mes7_levening.shp\")\n",
    "mes7_lnight = gpd.read_file(\"Datasets/Mapas de ruido/Mes7/contouring_mes7_lnight.shp\")"
   ]
  },
  {
   "cell_type": "code",
   "execution_count": 13,
   "id": "cb936182",
   "metadata": {},
   "outputs": [],
   "source": [
    "mes7_lden['Indice'] = 'Lden'\n",
    "mes7_lday['Indice'] = 'Ld'\n",
    "mes7_levening['Indice'] = 'Le'\n",
    "mes7_lnight['Indice'] = 'Ln'\n",
    "\n",
    "mes7_lden['Mes'] = 'Julio'\n",
    "mes7_lday['Mes'] = 'Julio'\n",
    "mes7_levening['Mes'] = 'Julio'\n",
    "mes7_lnight['Mes'] = 'Julio'"
   ]
  },
  {
   "cell_type": "code",
   "execution_count": 14,
   "id": "ec53934f",
   "metadata": {},
   "outputs": [],
   "source": [
    "mes8_lden = gpd.read_file(\"Datasets/Mapas de ruido/Mes8/contouring_mes8_lden.shp\")\n",
    "mes8_lday = gpd.read_file(\"Datasets/Mapas de ruido/Mes8/contouring_mes8_lday.shp\")\n",
    "mes8_levening = gpd.read_file(\"Datasets/Mapas de ruido/Mes8/contouring_mes8_levening.shp\")\n",
    "mes8_lnight = gpd.read_file(\"Datasets/Mapas de ruido/Mes8/contouring_mes8_lnight.shp\")"
   ]
  },
  {
   "cell_type": "code",
   "execution_count": 15,
   "id": "92782cae",
   "metadata": {},
   "outputs": [],
   "source": [
    "mes8_lden['Indice'] = 'Lden'\n",
    "mes8_lday['Indice'] = 'Ld'\n",
    "mes8_levening['Indice'] = 'Le'\n",
    "mes8_lnight['Indice'] = 'Ln'\n",
    "\n",
    "mes8_lden['Mes'] = 'Agosto'\n",
    "mes8_lday['Mes'] = 'Agosto'\n",
    "mes8_levening['Mes'] = 'Agosto'\n",
    "mes8_lnight['Mes'] = 'Agosto'"
   ]
  },
  {
   "cell_type": "code",
   "execution_count": 16,
   "id": "86bd77df",
   "metadata": {},
   "outputs": [],
   "source": [
    "mes9_lden = gpd.read_file(\"Datasets/Mapas de ruido/Mes9/contouring_mes9_lden.shp\")\n",
    "mes9_lday = gpd.read_file(\"Datasets/Mapas de ruido/Mes9/contouring_mes9_lday.shp\")\n",
    "mes9_levening = gpd.read_file(\"Datasets/Mapas de ruido/Mes9/contouring_mes9_levening.shp\")\n",
    "mes9_lnight = gpd.read_file(\"Datasets/Mapas de ruido/Mes9/contouring_mes9_lnight.shp\")"
   ]
  },
  {
   "cell_type": "code",
   "execution_count": 17,
   "id": "74f40f49",
   "metadata": {},
   "outputs": [],
   "source": [
    "mes9_lden['Indice'] = 'Lden'\n",
    "mes9_lday['Indice'] = 'Ld'\n",
    "mes9_levening['Indice'] = 'Le'\n",
    "mes9_lnight['Indice'] = 'Ln'\n",
    "\n",
    "mes9_lden['Mes'] = 'Septiembre'\n",
    "mes9_lday['Mes'] = 'Septiembre'\n",
    "mes9_levening['Mes'] = 'Septiembre'\n",
    "mes9_lnight['Mes'] = 'Septiembre'"
   ]
  },
  {
   "cell_type": "code",
   "execution_count": 18,
   "id": "9704e7b8",
   "metadata": {},
   "outputs": [],
   "source": [
    "mes10_lden = gpd.read_file(\"Datasets/Mapas de ruido/Mes10/contouring_mes10_lden.shp\")\n",
    "mes10_lday = gpd.read_file(\"Datasets/Mapas de ruido/Mes10/contouring_mes10_lday.shp\")\n",
    "mes10_levening = gpd.read_file(\"Datasets/Mapas de ruido/Mes10/contouring_mes10_levening.shp\")\n",
    "mes10_lnight = gpd.read_file(\"Datasets/Mapas de ruido/Mes10/contouring_mes10_lnight.shp\")"
   ]
  },
  {
   "cell_type": "code",
   "execution_count": 20,
   "id": "3e47e756",
   "metadata": {},
   "outputs": [],
   "source": [
    "mes10_lden['Indice'] = 'Lden'\n",
    "mes10_lday['Indice'] = 'Ld'\n",
    "mes10_levening['Indice'] = 'Le'\n",
    "mes10_lnight['Indice'] = 'Ln'\n",
    "\n",
    "mes10_lden['Mes'] = 'Octubre'\n",
    "mes10_lday['Mes'] = 'Octubre'\n",
    "mes10_levening['Mes'] = 'Octubre'\n",
    "mes10_lnight['Mes'] = 'Octubre'"
   ]
  },
  {
   "cell_type": "code",
   "execution_count": 21,
   "id": "c1023551",
   "metadata": {},
   "outputs": [],
   "source": [
    "mes11_lden = gpd.read_file(\"Datasets/Mapas de ruido/Mes11/contouring_mes11_lden.shp\")\n",
    "mes11_lday = gpd.read_file(\"Datasets/Mapas de ruido/Mes11/contouring_mes11_lday.shp\")\n",
    "mes11_levening = gpd.read_file(\"Datasets/Mapas de ruido/Mes11/contouring_mes11_levening.shp\")\n",
    "mes11_lnight = gpd.read_file(\"Datasets/Mapas de ruido/Mes11/contouring_mes11_lnight.shp\")"
   ]
  },
  {
   "cell_type": "code",
   "execution_count": 22,
   "id": "56381c7e",
   "metadata": {},
   "outputs": [],
   "source": [
    "mes11_lden['Indice'] = 'Lden'\n",
    "mes11_lday['Indice'] = 'Ld'\n",
    "mes11_levening['Indice'] = 'Le'\n",
    "mes11_lnight['Indice'] = 'Ln'\n",
    "\n",
    "mes11_lden['Mes'] = 'Noviembre'\n",
    "mes11_lday['Mes'] = 'Noviembre'\n",
    "mes11_levening['Mes'] = 'Noviembre'\n",
    "mes11_lnight['Mes'] = 'Noviembre'"
   ]
  },
  {
   "cell_type": "code",
   "execution_count": 23,
   "id": "29de7945",
   "metadata": {},
   "outputs": [],
   "source": [
    "mes12_lden = gpd.read_file(\"Datasets/Mapas de ruido/Mes12/contouring_mes12_lden.shp\")\n",
    "mes12_lday = gpd.read_file(\"Datasets/Mapas de ruido/Mes12/contouring_mes12_lday.shp\")\n",
    "mes12_levening = gpd.read_file(\"Datasets/Mapas de ruido/Mes12/contouring_mes12_levening.shp\")\n",
    "mes12_lnight = gpd.read_file(\"Datasets/Mapas de ruido/Mes12/contouring_mes12_lnight.shp\")"
   ]
  },
  {
   "cell_type": "code",
   "execution_count": 24,
   "id": "20313a17",
   "metadata": {},
   "outputs": [],
   "source": [
    "mes12_lden['Indice'] = 'Lden'\n",
    "mes12_lday['Indice'] = 'Ld'\n",
    "mes12_levening['Indice'] = 'Le'\n",
    "mes12_lnight['Indice'] = 'Ln'\n",
    "\n",
    "mes12_lden['Mes'] = 'Diciembre'\n",
    "mes12_lday['Mes'] = 'Diciembre'\n",
    "mes12_levening['Mes'] = 'Diciembre'\n",
    "mes12_lnight['Mes'] = 'Diciembre'"
   ]
  },
  {
   "cell_type": "code",
   "execution_count": null,
   "id": "c127c7fd",
   "metadata": {},
   "outputs": [],
   "source": []
  },
  {
   "cell_type": "code",
   "execution_count": 29,
   "id": "7dc669b5",
   "metadata": {},
   "outputs": [],
   "source": [
    "lista_contornos_ruido = [mes1_lden, mes1_lday, mes1_levening, mes1_lnight,\n",
    "                         mes2_lden, mes2_lday, mes2_levening, mes2_lnight,\n",
    "                         mes3_lden, mes3_lday, mes3_ldevening, mes3_lnight,\n",
    "                         mes4_lden, mes4_lday, mes4_ldevening, mes4_lnight,\n",
    "                         mes5_lden, mes5_lday, mes5_levening, mes5_lnight,\n",
    "                         mes6_lden, mes6_lday, mes6_levening, mes6_lnight,\n",
    "                         mes7_lden, mes7_lday, mes7_levening, mes7_lnight,\n",
    "                         mes8_lden, mes8_lday, mes8_levening, mes8_lnight,\n",
    "                         mes9_lden, mes9_lday, mes9_levening, mes9_lnight,\n",
    "                         mes10_lden, mes10_lday, mes10_levening, mes10_lnight,\n",
    "                         mes11_lden, mes11_lday, mes11_levening, mes11_lnight,\n",
    "                         mes12_lden, mes12_lday, mes12_levening, mes12_lnight]"
   ]
  },
  {
   "cell_type": "code",
   "execution_count": 30,
   "id": "9439f576",
   "metadata": {},
   "outputs": [],
   "source": [
    "contornos_ruido = pd.concat(lista_contornos_ruido, ignore_index = True)"
   ]
  },
  {
   "cell_type": "code",
   "execution_count": 31,
   "id": "39e2ba8e",
   "metadata": {},
   "outputs": [
    {
     "data": {
      "text/plain": [
       "6677405"
      ]
     },
     "execution_count": 31,
     "metadata": {},
     "output_type": "execute_result"
    }
   ],
   "source": [
    "len(contornos_ruido)"
   ]
  },
  {
   "cell_type": "code",
   "execution_count": 32,
   "id": "8121922d",
   "metadata": {},
   "outputs": [],
   "source": [
    "contornos_ruido_df = contornos_ruido.to_file(\"Datasets/Mapas de ruido/contornos_ruido_todos.shp\", index=False)"
   ]
  },
  {
   "cell_type": "code",
   "execution_count": null,
   "id": "dbe8253e",
   "metadata": {},
   "outputs": [],
   "source": []
  },
  {
   "cell_type": "code",
   "execution_count": null,
   "id": "9e8daac3",
   "metadata": {},
   "outputs": [],
   "source": []
  }
 ],
 "metadata": {
  "kernelspec": {
   "display_name": "Python 3 (ipykernel)",
   "language": "python",
   "name": "python3"
  },
  "language_info": {
   "codemirror_mode": {
    "name": "ipython",
    "version": 3
   },
   "file_extension": ".py",
   "mimetype": "text/x-python",
   "name": "python",
   "nbconvert_exporter": "python",
   "pygments_lexer": "ipython3",
   "version": "3.11.5"
  }
 },
 "nbformat": 4,
 "nbformat_minor": 5
}
